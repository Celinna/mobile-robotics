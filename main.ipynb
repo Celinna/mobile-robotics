# %% codecell
import os
import sys
import time
import serial
import math
import numpy as np

# Adding the src folder in the current directory as it contains the script
# with the Thymio class
sys.path.insert(0, os.path.join(os.getcwd(), 'utils'))
from Thymio import Thymio
from motion import Robot
from motion import RepeatedTimer

#/dev/cu.usbmodem141101	/dev/cu.usbmodem141401
th = Thymio.serial(port="/dev/cu.usbmodem141401", refreshing_rate=0.1) #/dev/ttyACM0 for linux
my_th = Robot(th)

time.sleep(3) # To make sure the Thymio has had time to connect

variables = th.variable_description()

print(variables[0])
# %% codecell

t0 = time.time()

def acquire_speed():
    global curr_speed
    curr_speed = my_th.get_speed()

acquire_speed()


rt_speed = RepeatedTimer(1, acquire_speed)

#
while time.time() < t0+5
    print(curr_speed)
# %% codecell
rt_speed.start()
my_th.set_speed(100)
my_th.go_straight(100)


# %% codecell
rt_speed.stop()
my_th.stop()










# %% codecell
#my_th.rt_speed.stop()
#my_th.stop()

 # it auto-starts, no need of rt.start()

#
# print(my_th.get_position())
# my_th.move_to_target([0,10])
# my_th.move_to_target([20,50])
# print(my_th.get_position())
# pos_th = my_th.set_position([0,0,0])
# print(my_th.get_position())
#
# my_th.stop()

# my_th.forward(100)
# my_th.turn(180)
# my_th.turn(360)
# my_th.turn(-720)
# my_th.move_to_target([0,1])
# my_th.move_to_target([12,33])
#
# full_path = np.array([[0,1,1,2,3,4,5,5,5,6,6,6,6,6,6,6,6,6,6,6,6,6,6,6,6,6,7,7,7,7,7,8,9,10,11,12,13,14,15,16,17,18,19,20],
#  [0,1,2,3,4,5,6,7,8,9,10,11,12,13,14,15,16,17,18,19,20,21,22,23,24,25,26,27,28,29,30,31,32,33,34,35,36,37,38,38,39,39,39,40]])
#
# full_path = full_path.T
#
# for i in range(len(full_path)):
#     my_th.move_to_target([full_path[i,0],full_path[i,1]])
#     pos_th = my_th.get_position()
#     print("Thymio position: {}".format(pos_th))
