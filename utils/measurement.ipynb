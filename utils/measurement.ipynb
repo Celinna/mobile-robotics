{
 "metadata": {
  "language_info": {
   "codemirror_mode": {
    "name": "ipython",
    "version": 3
   },
   "file_extension": ".py",
   "mimetype": "text/x-python",
   "name": "python",
   "nbconvert_exporter": "python",
   "pygments_lexer": "ipython3",
   "version": "3.8.5-final"
  },
  "orig_nbformat": 2,
  "kernelspec": {
   "name": "python3",
   "display_name": "Python 3"
  }
 },
 "nbformat": 4,
 "nbformat_minor": 2,
 "cells": [
  {
   "cell_type": "code",
   "execution_count": 2,
   "metadata": {},
   "outputs": [],
   "source": [
    "import os\n",
    "import sys\n",
    "import time\n",
    "import serial\n",
    "\n",
    "# Adding the src folder in the current directory as it contains the script\n",
    "# with the Thymio class\n",
    "sys.path.insert(0, os.path.join(os.getcwd(), 'src'))\n",
    "\n",
    "from Thymio import Thymio\n",
    "\n"
   ]
  },
  {
   "cell_type": "code",
   "execution_count": 4,
   "metadata": {},
   "outputs": [],
   "source": [
    "#ls /dev/ttyACM*\n",
    "#sudo chmod 666 /dev/ttyACM0\n",
    "Ts = 0.1\n",
    "th = Thymio.serial(port=\"/dev/ttyACM2\", refreshing_rate=2*Ts)"
   ]
  },
  {
   "cell_type": "code",
   "execution_count": 62,
   "metadata": {},
   "outputs": [
    {
     "output_type": "stream",
     "name": "stdout",
     "text": [
      "{'name': '_id', 'offset': 0, 'size': 1}\n{'name': 'event.source', 'offset': 1, 'size': 1}\n{'name': 'event.args', 'offset': 2, 'size': 32}\n{'name': '_fwversion', 'offset': 34, 'size': 2}\n{'name': '_productId', 'offset': 36, 'size': 1}\n{'name': 'buttons._raw', 'offset': 37, 'size': 5}\n{'name': 'button.backward', 'offset': 42, 'size': 1}\n{'name': 'button.left', 'offset': 43, 'size': 1}\n{'name': 'button.center', 'offset': 44, 'size': 1}\n{'name': 'button.forward', 'offset': 45, 'size': 1}\n{'name': 'button.right', 'offset': 46, 'size': 1}\n{'name': 'buttons._mean', 'offset': 47, 'size': 5}\n{'name': 'buttons._noise', 'offset': 52, 'size': 5}\n{'name': 'prox.horizontal', 'offset': 57, 'size': 7}\n{'name': 'prox.comm.rx._payloads', 'offset': 64, 'size': 7}\n{'name': 'prox.comm.rx._intensities', 'offset': 71, 'size': 7}\n{'name': 'prox.comm.rx', 'offset': 78, 'size': 1}\n{'name': 'prox.comm.tx', 'offset': 79, 'size': 1}\n{'name': 'prox.ground.ambiant', 'offset': 80, 'size': 2}\n{'name': 'prox.ground.reflected', 'offset': 82, 'size': 2}\n{'name': 'prox.ground.delta', 'offset': 84, 'size': 2}\n{'name': 'motor.left.target', 'offset': 86, 'size': 1}\n{'name': 'motor.right.target', 'offset': 87, 'size': 1}\n{'name': '_vbat', 'offset': 88, 'size': 2}\n{'name': '_imot', 'offset': 90, 'size': 2}\n{'name': 'motor.left.speed', 'offset': 92, 'size': 1}\n{'name': 'motor.right.speed', 'offset': 93, 'size': 1}\n{'name': 'motor.left.pwm', 'offset': 94, 'size': 1}\n{'name': 'motor.right.pwm', 'offset': 95, 'size': 1}\n{'name': '_integrator', 'offset': 96, 'size': 2}\n{'name': 'acc', 'offset': 98, 'size': 3}\n{'name': 'leds.top', 'offset': 101, 'size': 3}\n{'name': 'leds.bottom.left', 'offset': 104, 'size': 3}\n{'name': 'leds.bottom.right', 'offset': 107, 'size': 3}\n{'name': 'leds.circle', 'offset': 110, 'size': 8}\n{'name': 'temperature', 'offset': 118, 'size': 1}\n{'name': 'rc5.address', 'offset': 119, 'size': 1}\n{'name': 'rc5.command', 'offset': 120, 'size': 1}\n{'name': 'mic.intensity', 'offset': 121, 'size': 1}\n{'name': 'mic.threshold', 'offset': 122, 'size': 1}\n{'name': 'mic._mean', 'offset': 123, 'size': 1}\n{'name': 'timer.period', 'offset': 124, 'size': 2}\n{'name': 'acc._tap', 'offset': 126, 'size': 1}\n{'name': 'sd.present', 'offset': 127, 'size': 1}\n"
     ]
    }
   ],
   "source": [
    "variables = th.variable_description()\n",
    "\n",
    "for var in variables : \n",
    "    print(var)"
   ]
  },
  {
   "cell_type": "code",
   "execution_count": 3,
   "metadata": {
    "tags": []
   },
   "outputs": [
    {
     "output_type": "stream",
     "name": "stdout",
     "text": [
      "7.791886329650879\n",
      "7.799263954162598\n",
      "7.804596424102783\n",
      "7.8138580322265625\n",
      "7.819485664367676\n",
      "7.829321622848511\n",
      "7.833026170730591\n",
      "7.834489345550537\n",
      "7.842350006103516\n",
      "7.84361720085144\n",
      "7.845051050186157\n",
      "7.846511125564575\n",
      "7.847899675369263\n",
      "7.849407911300659\n",
      "7.8569371700286865\n",
      "7.8582518100738525\n",
      "7.859679222106934\n",
      "7.8613440990448\n",
      "7.862537622451782\n",
      "7.864156723022461\n",
      "7.8698625564575195\n",
      "7.873299598693848\n",
      "7.874783039093018\n",
      "7.876201868057251\n",
      "7.877620697021484\n",
      "7.879119396209717\n",
      "7.884958267211914\n",
      "7.888500928878784\n",
      "7.889959812164307\n",
      "7.891366958618164\n",
      "7.892839670181274\n",
      "7.89422869682312\n",
      "7.9026172161102295\n",
      "7.9596874713897705\n",
      "7.990154981613159\n",
      "8.020259380340576\n",
      "8.050581932067871\n",
      "8.080925226211548\n",
      "8.111340999603271\n",
      "8.141661643981934\n",
      "8.174063682556152\n",
      "8.204885244369507\n",
      "8.234732389450073\n",
      "8.26518964767456\n",
      "8.295544862747192\n",
      "8.326092720031738\n",
      "8.38347339630127\n",
      "8.413944005966187\n",
      "8.444065809249878\n",
      "8.474319458007812\n",
      "8.504639148712158\n",
      "8.535046577453613\n",
      "8.565442562103271\n",
      "8.598005533218384\n",
      "8.628576755523682\n",
      "8.658487558364868\n",
      "8.688880443572998\n",
      "8.719255924224854\n",
      "8.749745845794678\n",
      "8.807126998901367\n",
      "8.837637186050415\n",
      "8.905643224716187\n"
     ]
    }
   ],
   "source": [
    "import time\n",
    "\n",
    "while True:\n",
    "\n",
    "    if th[\"button.right\"]: # start counting\n",
    "        t_start = time.time()\n",
    "        th.set_var(\"motor.left.target\", 100)\n",
    "        th.set_var(\"motor.right.target\", 2**16-100)\n",
    "\n",
    "    if th[\"button.center\"]: # stop counting\n",
    "        th.set_var(\"motor.left.target\", 0)\n",
    "        th.set_var(\"motor.right.target\", 0)\n",
    "        t_end = time.time()\n",
    "        print(t_end-t_start)"
   ]
  },
  {
   "cell_type": "code",
   "execution_count": 12,
   "metadata": {
    "tags": []
   },
   "outputs": [],
   "source": [
    "#distance measurement\n",
    "for loop in range(1):\n",
    "    th.set_var(\"motor.left.target\", 100)\n",
    "    th.set_var(\"motor.right.target\", 100)\n",
    "    t=0\n",
    "    t_start = time.time()\n",
    "    while t < 2: #one revolution: 4.378\n",
    "        t_end= time.time()\n",
    "        t =  t_end - t_start\n",
    "    th.set_var(\"motor.left.target\", 0)\n",
    "    th.set_var(\"motor.right.target\", 0)\n",
    "    time.sleep(0.1)\n"
   ]
  },
  {
   "cell_type": "code",
   "execution_count": 22,
   "metadata": {},
   "outputs": [],
   "source": [
    "#angle measurement\n",
    "for loop in range(1):\n",
    "    th.set_var(\"motor.left.target\", 100)\n",
    "    th.set_var(\"motor.right.target\", 2**16-100)\n",
    "    t=0\n",
    "    t_start = time.time()\n",
    "    while t < 2: #one revolution: 4.378\n",
    "        t_end= time.time()\n",
    "        t =  t_end - t_start\n",
    "    th.set_var(\"motor.left.target\", 0)\n",
    "    th.set_var(\"motor.right.target\", 0)\n",
    "    time.sleep(0.1)\n",
    "    "
   ]
  },
  {
   "cell_type": "code",
   "execution_count": null,
   "metadata": {},
   "outputs": [],
   "source": [
    "from sklearn.svm import SVC\n",
    "svcclassifier = SVC(kernel='linear')\n",
    "svcclassifier.fit(X_train, y_train)"
   ]
  },
  {
   "cell_type": "code",
   "execution_count": null,
   "metadata": {},
   "outputs": [],
   "source": [
    " def measurement_model(x,y):\n",
    "    mean = 15.94444\n",
    "    # sigma = np.std(slice)\n",
    "    sigma = 6.877318\n",
    "    p0 = [1, mean, sigma]\n",
    "    fitParams, pcov = curve_fit(gaussian, x, y, p0=p0, maxfev=200000)\n",
    "    \n",
    "    # plot the data as blue circles\n",
    "    plt.errorbar(LXi,\n",
    "                 S,\n",
    "                 fmt='o',\n",
    "                 c='blue',\n",
    "                 ms=5.5,\n",
    "                 markerfacecolor='white',\n",
    "                 markeredgecolor='blue',\n",
    "                 markeredgewidth=1.4)\n",
    "    # plot the fitted line\n",
    "    Xi = np.log(x)  # Logarithm of the correlation length xi\n",
    "    plt.plot(LXi,\n",
    "             fitFunc(x, fitParams[0], fitParams[1]),\n",
    "             linewidth=1.5,\n",
    "             c='black',\n",
    "             label='fit c={c:.2f}'.format(c=fitParams[0]))\n",
    "\n",
    "    plt.xlabel(r'$\\log{\\,}\\xi_{\\chi}$', fontsize=16)\n",
    "    plt.ylabel(r'$S$', fontsize=16)\n",
    "    plt.legend(loc='lower right', borderaxespad=0., fancybox=True, shadow=True, fontsize=16)"
   ]
  }
 ]
}