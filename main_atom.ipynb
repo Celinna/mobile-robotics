{
  "cells": [
    {
      "cell_type": "code",
      "source": [
        "import os\n",
        "import sys\n",
        "import time\n",
        "import serial\n",
        "import math\n",
        "import numpy as np\n",
        "\n",
        "# Adding the src folder in the current directory as it contains the script\n",
        "# with the Thymio class\n",
        "sys.path.insert(0, os.path.join(os.getcwd(), 'utils'))\n",
        "sys.path.insert(0, os.path.join(os.getcwd(), 'ekf'))\n",
        "\n",
        "#print(os.getcwd())\n",
        "from Thymio import Thymio\n",
        "from motion import Robot\n",
        "from motion import RepeatedTimer\n",
        "\n",
        "#/dev/cu.usbmodem141101\t/dev/cu.usbmodem141401\n",
        "th = Thymio.serial(port=\"/dev/cu.usbmodem141401\", refreshing_rate=0.1) #/dev/ttyACM0 for linux\n",
        "my_th = Robot(th)\n",
        "\n",
        "time.sleep(3) # To make sure the Thymio has had time to connect\n",
        "\n",
        "variables = th.variable_description()\n",
        "\n",
        "print(variables[0])\n"
      ],
      "outputs": [],
      "execution_count": null,
      "metadata": {
        "collapsed": true,
        "jupyter": {
          "source_hidden": false,
          "outputs_hidden": false
        },
        "nteract": {
          "transient": {
            "deleting": false
          }
        }
      }
    },
    {
      "cell_type": "code",
      "source": [
        "\n",
        "from ekf import *\n",
        "from IPython.display import clear_output\n",
        "\n",
        "\n",
        "\n",
        "# State Vector [x y yaw v]'\n",
        "\n",
        "xEst = np.zeros((5, 1))\n",
        "xTrue = np.zeros((5, 1))\n",
        "PEst = np.eye(5)\n",
        "\n",
        "xDR = np.zeros((5, 1))  # Dead reckoning\n",
        "\n",
        "# history\n",
        "hxEst = xEst\n",
        "hxTrue = xTrue\n",
        "hxDR = xTrue\n",
        "hz = np.zeros((3, 1))\n",
        "\n",
        "def repeated_function():\n",
        "    #global curr_speed, left, right\n",
        "    global xEst, xTrue, PEst, xDR, hxEst, hxTrue, hxDR, hz\n",
        "\n",
        "    curr_speed = my_th.get_speed()\n",
        "    left, right = curr_speed[0], curr_speed[1]\n",
        "    print(curr_speed)\n",
        "    u = calc_input(left, right)\n",
        "\n",
        "    xTrue, z, xDR, ud = observation(xTrue, xDR, u)\n",
        "\n",
        "    xEst, PEst = ekf_estimation(xEst, PEst, z, ud)\n",
        "\n",
        "    my_th.set_position([xEst[0][0], xEst[1][0], np.rad2deg(xEst[2][0])])\n",
        "    print('My position:', my_th.get_position())\n",
        "\n",
        "    # store data history\n",
        "    hxEst = np.hstack((hxEst, xEst))\n",
        "    hxDR = np.hstack((hxDR, xDR))\n",
        "    hxTrue = np.hstack((hxTrue, xTrue))\n",
        "    hz = np.hstack((hz, z))\n",
        "\n",
        "    plt.cla()\n",
        "    # for stopping simulation with the esc key.\n",
        "    plt.gcf().canvas.mpl_connect('key_release_event',\n",
        "            lambda event: [exit(0) if event.key == 'escape' else None])\n",
        "    plt.plot(hz[0, :], hz[1, :], \".g\")\n",
        "    plt.plot(hxTrue[0, :].flatten(),\n",
        "                hxTrue[1, :].flatten(), \"-b\")\n",
        "    #plt.plot(hxDR[0, :].flatten(),\n",
        "    #         hxDR[1, :].flatten(), \"-k\")\n",
        "    plt.plot(hxEst[0, :].flatten(),\n",
        "                hxEst[1, :].flatten(), \"-r\")\n",
        "    #plot_covariance_ellipse(xEst, PEst)\n",
        "    plt.axis('equal')\n",
        "    plt.grid(True)\n",
        "    #plt.xlim(0, 0.2)\n",
        "    #plt.ylim(-0.05,0.05)\n",
        "\n",
        "    plt.xlabel('x')\n",
        "    plt.ylabel('y')\n",
        "    #plt.pause(0.001)\n",
        "\n",
        "rt_speed = RepeatedTimer(0.1, repeated_function)\n",
        "\n",
        "my_th.set_speed(100)\n",
        "my_th.set_position([0,0,0])\n",
        "my_th.move_to_target([0,50])\n",
        "my_th.move_to_target([50,50])\n",
        "my_th.move_to_target([50,100])\n",
        "my_th.move_to_target([70,100])\n",
        "my_th.move_to_target([80,140])\n",
        "\n",
        "print('My position:', my_th.get_position())\n",
        "\n",
        "# my_th.go_straight(200)\n",
        "# my_th.turn(45)\n",
        "# my_th.go_straight(100)\n",
        "# my_th.turn(90)\n",
        "# my_th.go_straight(100)\n",
        "\n",
        "\n",
        "rt_speed.stop()\n",
        "my_th.stop()\n"
      ],
      "outputs": [],
      "execution_count": null,
      "metadata": {
        "collapsed": true,
        "jupyter": {
          "source_hidden": false,
          "outputs_hidden": false
        },
        "nteract": {
          "transient": {
            "deleting": false
          }
        }
      }
    },
    {
      "cell_type": "code",
      "source": [
        "\n",
        "\n",
        "def repeated_function():\n",
        "    global curr_speed, left, right\n",
        "    curr_speed = my_th.get_speed() * 0.31573\n",
        "    left, right = curr_speed[0], curr_speed[1]\n",
        "    print(left/95 - right/95)\n",
        "\n",
        "rt_speed = RepeatedTimer(1, repeated_function)\n",
        "\n",
        "my_th.set_speed(100)\n",
        "my_th.go_straight(200)\n",
        "\n",
        "my_th.turn(90)\n",
        "my_th.go_straight(200)\n",
        "\n",
        "time = 0.0\n",
        "\n",
        "# State Vector [x y yaw v]'\n",
        "xEst = np.zeros((4, 1))\n",
        "xTrue = np.zeros((4, 1))\n",
        "PEst = np.eye(4)\n",
        "\n",
        "xDR = np.zeros((4, 1))  # Dead reckoning\n",
        "\n",
        "# history\n",
        "hxEst = xEst\n",
        "hxTrue = xTrue\n",
        "hxDR = xTrue\n",
        "hz = np.zeros((2, 1))\n",
        "\n",
        "while SIM_TIME >= time:\n",
        "    time += DT\n",
        "    u = calc_input(left, right)\n",
        "    print(u)\n",
        "    print(time)\n",
        "    xTrue, z, xDR, ud = observation(xTrue, xDR, u)\n",
        "\n",
        "    xEst, PEst = ekf_estimation(xEst, PEst, z, ud)\n",
        "\n",
        "    # store data history\n",
        "    hxEst = np.hstack((hxEst, xEst))\n",
        "    hxDR = np.hstack((hxDR, xDR))\n",
        "    hxTrue = np.hstack((hxTrue, xTrue))\n",
        "    hz = np.hstack((hz, z))\n",
        "\n",
        "    if show_animation:\n",
        "        #clear_output(wait=True)\n",
        "        plt.cla()\n",
        "        # for stopping simulation with the esc key.\n",
        "        plt.gcf().canvas.mpl_connect('key_release_event',\n",
        "                lambda event: [exit(0) if event.key == 'escape' else None])\n",
        "        plt.plot(hz[0, :], hz[1, :], \".g\")\n",
        "        plt.plot(hxTrue[0, :].flatten(),\n",
        "                    hxTrue[1, :].flatten(), \"-b\")\n",
        "        #plt.plot(hxDR[0, :].flatten(),\n",
        "        #         hxDR[1, :].flatten(), \"-k\")\n",
        "        plt.plot(hxEst[0, :].flatten(),\n",
        "                    hxEst[1, :].flatten(), \"-r\")\n",
        "        #plot_covariance_ellipse(xEst, PEst)\n",
        "        plt.axis('equal')\n",
        "        plt.grid(True)\n",
        "        #plt.xlim(0, 0.2)\n",
        "        #plt.ylim(-0.05,0.05)\n",
        "\n",
        "        plt.xlabel('x')\n",
        "        plt.ylabel('y')\n",
        "        #plt.pause(0.001)\n",
        "\n",
        "\n",
        "\n",
        "#my_th.move_to_target([40,40])\n",
        "#my_th.move_to_target([100,220])\n",
        "\n",
        "\n",
        "rt_speed.stop()\n",
        "my_th.stop()\n"
      ],
      "outputs": [],
      "execution_count": null,
      "metadata": {
        "collapsed": true,
        "jupyter": {
          "source_hidden": false,
          "outputs_hidden": false
        },
        "nteract": {
          "transient": {
            "deleting": false
          }
        }
      }
    },
    {
      "cell_type": "code",
      "source": [
        "rt_speed.stop()\n",
        "my_th.stop()"
      ],
      "outputs": [],
      "execution_count": null,
      "metadata": {
        "collapsed": true,
        "jupyter": {
          "source_hidden": false,
          "outputs_hidden": false
        },
        "nteract": {
          "transient": {
            "deleting": false
          }
        }
      }
    },
    {
      "cell_type": "code",
      "source": [
        "\n",
        "\n",
        "\n",
        "\n",
        "\n",
        "\n",
        "\n",
        "\n",
        "\n",
        "\n",
        "\n",
        "\n",
        "\n",
        "\n",
        "\n"
      ],
      "outputs": [],
      "execution_count": null,
      "metadata": {
        "collapsed": true,
        "jupyter": {
          "source_hidden": false,
          "outputs_hidden": false
        },
        "nteract": {
          "transient": {
            "deleting": false
          }
        }
      }
    },
    {
      "cell_type": "code",
      "source": [
        "my_th.rt_speed.start()\n",
        "test = my_th.speed_array[-1]\n",
        "#print(test)\n",
        "my_th.set_speed(100)\n",
        "#test = my_th.get_speed()\n",
        "#print(test)\n",
        "#print(len(test))\n",
        "#my_th.forward(300)\n",
        "#my_th.turn(360)\n",
        "#my_th.go_straight(500)\n",
        "my_th.turn(360)\n",
        "#my_th.turn(-180)\n"
      ],
      "outputs": [],
      "execution_count": null,
      "metadata": {
        "collapsed": true,
        "jupyter": {
          "source_hidden": false,
          "outputs_hidden": false
        },
        "nteract": {
          "transient": {
            "deleting": false
          }
        }
      }
    },
    {
      "cell_type": "code",
      "source": [
        "my_th.rt_speed.stop()\n",
        "my_th.stop()"
      ],
      "outputs": [],
      "execution_count": null,
      "metadata": {
        "collapsed": true,
        "jupyter": {
          "source_hidden": false,
          "outputs_hidden": false
        },
        "nteract": {
          "transient": {
            "deleting": false
          }
        }
      }
    },
    {
      "cell_type": "code",
      "source": [
        "print(test)"
      ],
      "outputs": [],
      "execution_count": null,
      "metadata": {
        "collapsed": true,
        "jupyter": {
          "source_hidden": false,
          "outputs_hidden": false
        },
        "nteract": {
          "transient": {
            "deleting": false
          }
        }
      }
    },
    {
      "cell_type": "code",
      "source": [
        "my_th.rt_speed.start()\n",
        "\n",
        "my_th.move_to_target([100,0])\n",
        "my_th.move_to_target([100,50])\n",
        "my_th.set_position([0,0,0])\n",
        "\n",
        "my_th.rt_speed.stop()\n",
        "my_th.stop()"
      ],
      "outputs": [],
      "execution_count": null,
      "metadata": {
        "collapsed": true,
        "jupyter": {
          "source_hidden": false,
          "outputs_hidden": false
        },
        "nteract": {
          "transient": {
            "deleting": false
          }
        }
      }
    },
    {
      "cell_type": "code",
      "source": [
        "from ekf import *\n",
        "%matplotlib inline\n",
        "from IPython.display import clear_output\n",
        "\n",
        "def main():\n",
        "    #print(__file__ + \" start!!\")\n",
        "    print(\"start!\")\n",
        "\n",
        "    time = 0.0\n",
        "\n",
        "    # State Vector [x y yaw v]'\n",
        "    xEst = np.zeros((4, 1))\n",
        "    xTrue = np.zeros((4, 1))\n",
        "    PEst = np.eye(4)\n",
        "\n",
        "    xDR = np.zeros((4, 1))  # Dead reckoning\n",
        "\n",
        "    # history\n",
        "    hxEst = xEst\n",
        "    hxTrue = xTrue\n",
        "    hxDR = xTrue\n",
        "    hz = np.zeros((2, 1))\n",
        "\n",
        "    while SIM_TIME >= time:\n",
        "        time += DT\n",
        "        u = calc_input()\n",
        "\n",
        "        xTrue, z, xDR, ud = observation(xTrue, xDR, u)\n",
        "\n",
        "        xEst, PEst = ekf_estimation(xEst, PEst, z, ud)\n",
        "\n",
        "        # store data history\n",
        "        hxEst = np.hstack((hxEst, xEst))\n",
        "        hxDR = np.hstack((hxDR, xDR))\n",
        "        hxTrue = np.hstack((hxTrue, xTrue))\n",
        "        hz = np.hstack((hz, z))\n",
        "\n",
        "        if show_animation:\n",
        "            clear_output(wait=True)\n",
        "            plt.cla()\n",
        "            # for stopping simulation with the esc key.\n",
        "            plt.gcf().canvas.mpl_connect('key_release_event',\n",
        "                    lambda event: [exit(0) if event.key == 'escape' else None])\n",
        "            plt.plot(hz[0, :], hz[1, :], \".g\")\n",
        "            plt.plot(hxTrue[0, :].flatten(),\n",
        "                     hxTrue[1, :].flatten(), \"-b\")\n",
        "            #plt.plot(hxDR[0, :].flatten(),\n",
        "            #         hxDR[1, :].flatten(), \"-k\")\n",
        "            plt.plot(hxEst[0, :].flatten(),\n",
        "                     hxEst[1, :].flatten(), \"-r\")\n",
        "            #plot_covariance_ellipse(xEst, PEst)\n",
        "            #plt.axis(\"equal\")\n",
        "            plt.grid(True)\n",
        "            plt.xlim(0, 0.2)\n",
        "            plt.ylim(-0.05,0.05)\n",
        "\n",
        "            plt.xlabel('x')\n",
        "            plt.ylabel('y')\n",
        "            plt.pause(0.001)\n",
        "\n",
        "if __name__ == '__main__':\n",
        "    main()"
      ],
      "outputs": [],
      "execution_count": null,
      "metadata": {
        "collapsed": true,
        "jupyter": {
          "source_hidden": false,
          "outputs_hidden": false
        },
        "nteract": {
          "transient": {
            "deleting": false
          }
        }
      }
    },
    {
      "cell_type": "code",
      "source": [
        "\n",
        "my_th.go_straight(500)\n",
        "\n",
        "\"\"\"\n",
        "my_th.forward(100)\n",
        "my_th.turn(180)\n",
        "my_th.turn(360)\n",
        "my_th.turn(-720)\n",
        "my_th.move_to_target([0,1])\n",
        "my_th.move_to_target([12,33])\n",
        "\n",
        "full_path = np.array([[0,1,1,2,3,4,5,5,5,6,6,6,6,6,6,6,6,6,6,6,6,6,6,6,6,6,7,7,7,7,7,8,9,10,11,12,13,14,15,16,17,18,19,20],\n",
        " [0,1,2,3,4,5,6,7,8,9,10,11,12,13,14,15,16,17,18,19,20,21,22,23,24,25,26,27,28,29,30,31,32,33,34,35,36,37,38,38,39,39,39,40]])\n",
        "\n",
        "full_path = full_path.T\n",
        "\n",
        "for i in range(len(full_path)):\n",
        "    my_th.move_to_target([full_path[i,0],full_path[i,1]])\n",
        "    pos_th = my_th.get_position()\n",
        "    print(\"Thymio position: {}\".format(pos_th))\"\"\"\n",
        "conversion = 0.31573\n",
        "speed = 31.573 #[mm/s]\n",
        "\n",
        "print(my_th.get_speed())\n",
        "my_th.stop()\n"
      ],
      "outputs": [],
      "execution_count": null,
      "metadata": {
        "collapsed": true,
        "jupyter": {
          "source_hidden": false,
          "outputs_hidden": false
        },
        "nteract": {
          "transient": {
            "deleting": false
          }
        }
      }
    },
    {
      "cell_type": "code",
      "source": [
        "my_th.stop()"
      ],
      "outputs": [],
      "execution_count": null,
      "metadata": {
        "collapsed": true,
        "jupyter": {
          "source_hidden": false,
          "outputs_hidden": false
        },
        "nteract": {
          "transient": {
            "deleting": false
          }
        }
      }
    }
  ],
  "metadata": {
    "kernelspec": {
      "argv": [
        "/Library/Frameworks/Python.framework/Versions/3.7/bin/python3",
        "-m",
        "ipykernel_launcher",
        "-f",
        "{connection_file}"
      ],
      "display_name": "Python 3",
      "language": "python",
      "name": "python3"
    }
  },
  "nbformat": 4,
  "nbformat_minor": 0
}