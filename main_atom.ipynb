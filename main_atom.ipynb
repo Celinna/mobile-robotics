{
  "cells": [
    {
      "cell_type": "code",
      "source": [
        "import os\n",
        "import sys\n",
        "import time\n",
        "import serial\n",
        "import math\n",
        "import numpy as np\n",
        "\n",
        "# Adding the src folder in the current directory as it contains the script\n",
        "# with the Thymio class\n",
        "sys.path.insert(0, os.path.join(os.getcwd(), 'utils'))\n",
        "sys.path.insert(0, os.path.join(os.getcwd(), 'ekf'))\n",
        "\n",
        "#print(os.getcwd())\n",
        "from Thymio import Thymio\n",
        "from motion import Robot\n",
        "from motion import RepeatedTimer\n",
        "\n",
        "#/dev/cu.usbmodem141101\t/dev/cu.usbmodem141401\n",
        "th = Thymio.serial(port=\"/dev/cu.usbmodem141401\", refreshing_rate=0.1) #/dev/ttyACM0 for linux\n",
        "my_th = Robot(th)\n",
        "\n",
        "time.sleep(3) # To make sure the Thymio has had time to connect\n",
        "\n",
        "\n",
        "variables = th.variable_description()\n",
        "\n",
        "print(variables[0])\n"
      ],
      "outputs": [],
      "execution_count": null,
      "metadata": {
        "collapsed": true,
        "jupyter": {
          "source_hidden": false,
          "outputs_hidden": false
        },
        "nteract": {
          "transient": {
            "deleting": false
          }
        }
      }
    },
    {
      "cell_type": "code",
      "source": [
        "\n",
        "\n"
      ],
      "outputs": [],
      "execution_count": null,
      "metadata": {
        "collapsed": true,
        "jupyter": {
          "source_hidden": false,
          "outputs_hidden": false
        },
        "nteract": {
          "transient": {
            "deleting": false
          }
        }
      }
    },
    {
      "cell_type": "code",
      "source": [
        "\n",
        "from ekf import *\n",
        "from IPython.display import clear_output\n",
        "\n",
        "\n",
        "\n",
        "# State Vector [x y yaw v]'\n",
        "\n",
        "xEst = np.zeros((5, 1))\n",
        "xTrue = np.zeros((5, 1))\n",
        "PEst = np.eye(5)\n",
        "\n",
        "#xDR = np.zeros((5, 1))  # Dead reckoning\n",
        "\n",
        "# history\n",
        "hxEst = xEst\n",
        "#hxTrue = xTrue\n",
        "#hxDR = xTrue\n",
        "hz = np.zeros((3, 1))\n",
        "\n",
        "def repeated_function():\n",
        "    #global curr_speed, left, right\n",
        "    global xEst, PEst, hxEst, hz\n",
        "    #xTrue,\n",
        "    #xDR, \n",
        "    #hxDR, \n",
        "    #hxTrue,\n",
        "\n",
        "    curr_speed = my_th.get_speed()\n",
        "    left, right = curr_speed[0], curr_speed[1]\n",
        "    \n",
        "    u = calc_input(left, right)\n",
        "    z = observation(xEst)\n",
        "\n",
        "    xEst, PEst = ekf_estimation(xEst, PEst, z, u)\n",
        "\n",
        "    my_th.set_position([xEst[0][0], xEst[1][0], np.rad2deg(xEst[2][0])])\n",
        "    print('My position:', my_th.get_position())\n",
        "\n",
        "    # store data history\n",
        "    hxEst = np.hstack((hxEst, xEst))\n",
        "    #hxDR = np.hstack((hxDR, xDR))\n",
        "    #hxTrue = np.hstack((hxTrue, xTrue))\n",
        "    hz = np.hstack((hz, z))\n",
        "\n",
        "    plt.cla()\n",
        "    # for stopping simulation with the esc key.\n",
        "    plt.gcf().canvas.mpl_connect('key_release_event',\n",
        "            lambda event: [exit(0) if event.key == 'escape' else None])\n",
        "    plt.plot(hz[0, :], hz[1, :], \".g\")\n",
        "    #plt.plot(hxTrue[0, :].flatten(),\n",
        "                #hxTrue[1, :].flatten(), \"-b\")\n",
        "    #plt.plot(hxDR[0, :].flatten(),\n",
        "    #         hxDR[1, :].flatten(), \"-k\")\n",
        "    plt.plot(hxEst[0, :].flatten(),\n",
        "                hxEst[1, :].flatten(), \"-r\")\n",
        "    #plot_covariance_ellipse(xEst, PEst)\n",
        "    plt.axis('equal')\n",
        "    plt.grid(True)\n",
        "    #plt.xlim(0, 0.2)\n",
        "    #plt.ylim(-0.05,0.05)\n",
        "\n",
        "    plt.xlabel('x')\n",
        "    plt.ylabel('y')\n",
        "    #plt.pause(0.001)\n",
        "\n",
        "rt_motion = RepeatedTimer(0.1, repeated_function)\n",
        "\n",
        "my_th.set_speed(100)\n",
        "my_th.set_position([0,0,0])\n",
        "my_th.move_to_target([0,50])\n",
        "my_th.move_to_target([50,50])\n",
        "my_th.move_to_target([50,100])\n",
        "my_th.move_to_target([70,100])\n",
        "my_th.move_to_target([80,140])\n",
        "\n",
        "print('My position:', my_th.get_position())\n",
        "\n",
        "# my_th.go_straight(200)\n",
        "# my_th.turn(45)\n",
        "# my_th.go_straight(100)\n",
        "# my_th.turn(90)\n",
        "# my_th.go_straight(100)\n",
        "\n",
        "\n",
        "rt_motion.stop()\n",
        "my_th.stop()\n"
      ],
      "outputs": [],
      "execution_count": null,
      "metadata": {
        "collapsed": true,
        "jupyter": {
          "source_hidden": false,
          "outputs_hidden": false
        },
        "nteract": {
          "transient": {
            "deleting": false
          }
        }
      }
    },
    {
      "cell_type": "code",
      "source": [
        "\n",
        "\n",
        "rt_motion.stop()\n",
        "my_th.stop()\n",
        "\n",
        "\n"
      ],
      "outputs": [],
      "execution_count": null,
      "metadata": {
        "collapsed": true,
        "jupyter": {
          "source_hidden": false,
          "outputs_hidden": false
        },
        "nteract": {
          "transient": {
            "deleting": false
          }
        }
      }
    },
    {
      "cell_type": "code",
      "source": [
        "\n",
        "#calculation of speeds covariance\n",
        "\n",
        "speeds = np.zeros((1,2))\n",
        "\n",
        "def repeated_function_straight():\n",
        "    global speeds\n",
        "    curr_speed = my_th.get_speed()\n",
        "    left, right = curr_speed[0], curr_speed[1]\n",
        "    speed = np.array([[left,right]])\n",
        "    print(speed)\n",
        "    speeds = np.concatenate((speeds, speed), axis=0)\n",
        "    \n",
        "rt_speed_straight = RepeatedTimer(0.1, repeated_function_straight)\n",
        "my_th.move_to_target([900,0])\n",
        "rt_speed_straight.stop()\n",
        "my_th.stop()\n",
        "\n",
        "rot_speeds = np.zeros((1,2))\n",
        "\n",
        "def repeated_function_rot():\n",
        "    global rot_speeds\n",
        "    curr_speed = my_th.get_speed()\n",
        "    left, right = curr_speed[0], curr_speed[1]\n",
        "    rot_speed = np.array([[left,right]])\n",
        "    rot_speeds = np.concatenate((rot_speeds, rot_speed), axis=0)\n",
        "    \n",
        "rt_speed_rot = RepeatedTimer(0.1, repeated_function_rot)\n",
        "my_th.turn(7*360)\n",
        "rt_speed_rot.stop()\n",
        "my_th.stop()\n",
        "\n",
        "V = speeds\n",
        "R = rot_speeds\n",
        "sigma_v = np.std(np.mean(V, axis=1)))\n",
        "sigma_w = np.std(np.mean(np.absolute(R), axis=1)))\n",
        "print(sigma_v, sigma_w)\n"
      ],
      "outputs": [],
      "execution_count": null,
      "metadata": {
        "collapsed": true,
        "jupyter": {
          "source_hidden": false,
          "outputs_hidden": false
        },
        "nteract": {
          "transient": {
            "deleting": false
          }
        }
      }
    },
    {
      "cell_type": "code",
      "source": [
        "V = speeds\n",
        "R = rot_speeds\n",
        "sigma_v = np.std(np.mean(V, axis=1))\n",
        "sigma_w = np.deg2rad(np.std(np.mean(np.absolute(R), axis=1)))\n",
        "print(sigma_v, sigma_w)\n",
        "\n",
        "#3.45831451568577 \n",
        "#0.040285945020203974\n",
        "                   \n"
      ],
      "outputs": [],
      "execution_count": null,
      "metadata": {
        "collapsed": true,
        "jupyter": {
          "source_hidden": false,
          "outputs_hidden": false
        },
        "nteract": {
          "transient": {
            "deleting": false
          }
        }
      }
    }
  ],
  "metadata": {
    "kernelspec": {
      "argv": [
        "/Library/Frameworks/Python.framework/Versions/3.7/bin/python3",
        "-m",
        "ipykernel_launcher",
        "-f",
        "{connection_file}"
      ],
      "display_name": "Python 3",
      "language": "python",
      "name": "python3"
    }
  },
  "nbformat": 4,
  "nbformat_minor": 0
}