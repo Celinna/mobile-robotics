{
 "metadata": {
  "language_info": {
   "codemirror_mode": {
    "name": "ipython",
    "version": 3
   },
   "file_extension": ".py",
   "mimetype": "text/x-python",
   "name": "python",
   "nbconvert_exporter": "python",
   "pygments_lexer": "ipython3",
   "version": "3.8.5-final"
  },
  "orig_nbformat": 2,
  "kernelspec": {
   "name": "python3",
   "display_name": "Python 3"
  }
 },
 "nbformat": 4,
 "nbformat_minor": 2,
 "cells": [
  {
   "cell_type": "code",
   "execution_count": 4,
   "metadata": {},
   "outputs": [],
   "source": [
    "import os\n",
    "import sys\n",
    "import time\n",
    "import serial\n",
    "import math\n",
    "import numpy as np\n",
    "\n",
    "# Adding the src folder in the current directory as it contains the script\n",
    "# with the Thymio class\n",
    "sys.path.insert(0, os.path.join(os.getcwd(), 'joachim'))\n",
    "from Thymio import Thymio\n",
    "#ls /dev/ttyACM*\n",
    "#sudo chmod 666 /dev/ttyACM0"
   ]
  },
  {
   "cell_type": "code",
   "execution_count": 5,
   "metadata": {},
   "outputs": [],
   "source": [
    "class robot():\n",
    "    def __init__(self):\n",
    "        self.pos_th = [0,0,0]\n",
    "        self.th = Thymio.serial(port=\"/dev/ttyACM4\", refreshing_rate=0.1) #/dev/ttyACM0 for linux\n",
    "    def GetPosition(self):\n",
    "        return self.pos_th\n",
    "    def measurement_model(self):\n",
    "        #distance\n",
    "        x_d = np.linspace(0.5, 5, 10)\n",
    "        y_d = [16,32.5,46.5,61,79.5,95,109,127.5,143,159.5]\n",
    "        \n",
    "        diff_y_d = np.diff(y_d) # Calculating difference list \n",
    "        mean_d = np.mean(diff_y_d) #15.94444\n",
    "        sigma_d = np.std(diff_y_d) #6.877318\n",
    "        distance_p0 = [1, mean_d, sigma_d]\n",
    "\n",
    "        #angle\n",
    "        x_a = np.linspace(0, 9, 10)\n",
    "        y_a = [0,42,78,114,150,194,231,270,310,347]\n",
    "\n",
    "        diff_y_a = np.diff(y_a) # Calculating difference list \n",
    "        mean_a = np.mean(diff_y_a) \n",
    "        sigma_a = np.std(diff_y_a) \n",
    "        angle_p0 = [1, mean_a, sigma_a]\n",
    "        return distance_p0, angle_p0"
   ]
  },
  {
   "cell_type": "code",
   "execution_count": 6,
   "metadata": {},
   "outputs": [
    {
     "output_type": "stream",
     "name": "stdout",
     "text": [
      "distance measurement model: [1, 15.944444444444445, 1.6235154662447173]\n\nangle measurement model: [1, 38.55555555555556, 2.753224820747526]\n"
     ]
    }
   ],
   "source": [
    "def Main():\n",
    "    \n",
    "    th_m = robot()\n",
    "    #pos_th = th_m.getPosition()\n",
    "\n",
    "    distance_p0, angle_p0 = th_m.measurement_model()\n",
    "    print(\"distance measurement model: {}\\n\".format(distance_p0))\n",
    "    print(\"angle measurement model: {}\".format(angle_p0))\n",
    "    \n",
    "if __name__==\"__main__\": \n",
    "    Main() "
   ]
  },
  {
   "cell_type": "code",
   "execution_count": null,
   "metadata": {},
   "outputs": [],
   "source": []
  }
 ]
}