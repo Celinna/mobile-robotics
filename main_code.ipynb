{
  "cells": [
    {
      "cell_type": "code",
      "source": [
        "import os\n",
        "import sys\n",
        "import time\n",
        "import serial\n",
        "import math\n",
        "import numpy as np\n",
        "\n",
        "# Adding the src folder in the current directory as it contains the script\n",
        "# with the Thymio class\n",
        "sys.path.insert(0, os.path.join(os.getcwd(), 'utils'))\n",
        "from Thymio import Thymio\n",
        "from motion import Robot\n",
        "from maps import Map"
      ],
      "outputs": [],
      "execution_count": null,
      "metadata": {
        "collapsed": true,
        "jupyter": {
          "source_hidden": false,
          "outputs_hidden": false
        },
        "nteract": {
          "transient": {
            "deleting": false
          }
        }
      }
    },
    {
      "cell_type": "code",
      "source": [
        "th = Thymio.serial(port=\"/dev/cu.usbmodem141401\", refreshing_rate=0.1) #/dev/ttyACM0 for linux\n",
        "my_map = Map()\n",
        "th_m = robot(th)\n",
        "\n",
        "path = my_map.path(goal=[120,500], verbose=True)\n",
        "pos_th = my_th.get_position()\n",
        "print(\"Thymio position: {}\".format(pos_th))\n",
        "for coord in path:\n",
        "    pos_th = my_th.get_position()\n",
        "    print(\"Thymio position: {}\".format(pos_th))\n",
        "    my_th.move_to_target(coord) #coord= [x,y]\n",
        "\n",
        "time.sleep(3) # To make sure the Thymio has had time to connect\n",
        "\n",
        "variables = th.variable_description()\n",
        "\n",
        "for var in variables : #If this does not print, reconnect USB!\n",
        "    print(var)\n"
      ],
      "outputs": [],
      "execution_count": null,
      "metadata": {
        "collapsed": true,
        "jupyter": {
          "source_hidden": false,
          "outputs_hidden": false
        },
        "nteract": {
          "transient": {
            "deleting": false
          }
        }
      }
    },
    {
      "cell_type": "code",
      "source": [
        "my_th = robot(th)\n",
        "\n",
        "my_th.forward(10)\n",
        "my_th.forward(100)\n",
        "my_th.turn(180)\n",
        "my_th.turn(360)\n",
        "my_th.turn(-720)\n",
        "my_th.move_to_target([0,1])\n",
        "my_th.move_to_target([12,33])\n",
        "\n",
        "full_path = np.array([[0,1,1,2,3,4,5,5,5,6,6,6,6,6,6,6,6,6,6,6,6,6,6,6,6,6,7,7,7,7,7,8,9,10,11,12,13,14,15,16,17,18,19,20],\n",
        " [0,1,2,3,4,5,6,7,8,9,10,11,12,13,14,15,16,17,18,19,20,21,22,23,24,25,26,27,28,29,30,31,32,33,34,35,36,37,38,38,39,39,39,40]])\n",
        "\n",
        "full_path = full_path.T\n",
        "\n",
        "for i in range(len(full_path)):\n",
        "    my_th.move_to_target([full_path[i,0],full_path[i,1]])\n",
        "    pos_th = my_th.get_position()\n",
        "    print(\"Thymio position: {}\".format(pos_th))\n",
        "\n",
        "my_th.stop()\n",
        "        "
      ],
      "outputs": [],
      "execution_count": null,
      "metadata": {
        "collapsed": true,
        "jupyter": {
          "source_hidden": false,
          "outputs_hidden": false
        },
        "nteract": {
          "transient": {
            "deleting": false
          }
        }
      }
    },
    {
      "cell_type": "code",
      "source": [
        "#     def measurement_model(self):\n",
        "#         #distance\n",
        "#         x_d = np.linspace(0.5, 5, 10)\n",
        "#         y_d = [16,32.5,46.5,61,79.5,95,109,127.5,143,159.5]\n",
        "        \n",
        "#         diff_y_d = np.diff(y_d) # Calculating difference list \n",
        "#         mean_d = np.mean(diff_y_d) #15.94444\n",
        "#         sigma_d = np.std(diff_y_d) #6.877318\n",
        "#         distance_p0 = [1, mean_d, sigma_d]\n",
        "\n",
        "#         #angle\n",
        "#         x_a = np.linspace(0, 9, 10)\n",
        "#         y_a = [0,42,78,114,150,194,231,270,310,347]\n",
        "\n",
        "#         diff_y_a = np.diff(y_a) # Calculating difference list \n",
        "#         mean_a = np.mean(diff_y_a) \n",
        "#         sigma_a = np.std(diff_y_a) \n",
        "#         angle_p0 = [1, mean_a, sigma_a]\n",
        "#         return distance_p0, angle_p0\n",
        "    \n",
        "    \n",
        "    \n",
        "    \n",
        "# distance_p0, angle_p0 = th_m.measurement_model()\n",
        "# print(\"distance measurement model: {}\\n\".format(distance_p0))\n",
        "# print(\"angle measurement model: {}\".format(angle_p0))"
      ],
      "outputs": [],
      "execution_count": null,
      "metadata": {
        "collapsed": true,
        "jupyter": {
          "source_hidden": false,
          "outputs_hidden": false
        },
        "nteract": {
          "transient": {
            "deleting": false
          }
        }
      }
    }
  ],
  "metadata": {
    "kernelspec": {
     "display_name": "Python 3",
     "language": "python",
     "name": "python3"
    },
    "language_info": {
     "codemirror_mode": {
      "name": "ipython",
      "version": 3
     },
     "file_extension": ".py",
     "mimetype": "text/x-python",
     "name": "python",
     "nbconvert_exporter": "python",
     "pygments_lexer": "ipython3",
     "version": "3.7.2"
    }
  },
  "nbformat": 4,
  "nbformat_minor": 0
}
