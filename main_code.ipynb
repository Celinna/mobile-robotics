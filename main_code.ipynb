{
 "metadata": {
  "language_info": {
   "codemirror_mode": {
    "name": "ipython",
    "version": 3
   },
   "file_extension": ".py",
   "mimetype": "text/x-python",
   "name": "python",
   "nbconvert_exporter": "python",
   "pygments_lexer": "ipython3",
   "version": "3.8.5-final"
  },
  "orig_nbformat": 2,
  "kernelspec": {
   "name": "python3",
   "display_name": "Python 3"
  }
 },
 "nbformat": 4,
 "nbformat_minor": 2,
 "cells": [
  {
   "cell_type": "code",
   "execution_count": 1,
   "metadata": {},
   "outputs": [],
   "source": [
    "import os\n",
    "import sys\n",
    "import time\n",
    "import serial\n",
    "import math\n",
    "import numpy as np\n",
    "\n",
    "# Adding the src folder in the current directory as it contains the script\n",
    "# with the Thymio class\n",
    "sys.path.insert(0, os.path.join(os.getcwd(), 'joachim'))\n",
    "from Thymio import Thymio\n",
    "#ls /dev/ttyACM*\n",
    "#sudo chmod 666 /dev/ttyACM0"
   ]
  },
  {
   "cell_type": "code",
   "execution_count": 27,
   "metadata": {},
   "outputs": [],
   "source": [
    "class robot():\n",
    "    def __init__(self):\n",
    "        self.pos_th = [0,0,0]\n",
    "        self.th = Thymio.serial(port=\"/dev/ttyACM0\", refreshing_rate=0.1) #/dev/ttyACM0 for linux\n",
    "        \n",
    "    def GetPosition(self):\n",
    "        return self.pos_th\n",
    "\n",
    "    def measurement_model(self):\n",
    "        #distance\n",
    "        x_d = np.linspace(0.5, 5, 10)\n",
    "        y_d = [16,32.5,46.5,61,79.5,95,109,127.5,143,159.5]\n",
    "        \n",
    "        diff_y_d = np.diff(y_d) # Calculating difference list \n",
    "        mean_d = np.mean(diff_y_d) #15.94444\n",
    "        sigma_d = np.std(diff_y_d) #6.877318\n",
    "        distance_p0 = [1, mean_d, sigma_d]\n",
    "\n",
    "        #angle\n",
    "        x_a = np.linspace(0, 9, 10)\n",
    "        y_a = [0,42,78,114,150,194,231,270,310,347]\n",
    "\n",
    "        diff_y_a = np.diff(y_a) # Calculating difference list \n",
    "        mean_a = np.mean(diff_y_a) \n",
    "        sigma_a = np.std(diff_y_a) \n",
    "        angle_p0 = [1, mean_a, sigma_a]\n",
    "        return distance_p0, angle_p0\n",
    "\n",
    "    def Angle(self,relative_angle):\n",
    "\n",
    "        if 0 < relative_angle <= math.pi/2: #quadrant 1\n",
    "            time_tg = (math.degrees(relative_angle)+0.3091)/38.0509\n",
    "            elf.th.set_var(\"motor.left.target\", 2**16-100) #turn to the left\n",
    "            self.th.set_var(\"motor.right.target\", 100)\n",
    "        if math.pi/2 < relative_angle <= math.pi: #quadrant 2\n",
    "            time_tg = (math.degrees(math.pi-relative_angle)+0.3091)/38.0509\n",
    "            self.th.set_var(\"motor.left.target\", 2**16-100) #turn to the left\n",
    "            self.th.set_var(\"motor.right.target\", 100)\n",
    "        if math.pi < relative_angle <= 1.5*math.pi: #quadrant 3\n",
    "            time_tg = (math.degrees(relative_angle-math.pi/2)+0.3091)/38.0509\n",
    "            self.th.set_var(\"motor.left.target\", 100) #turn to the right\n",
    "            self.th.set_var(\"motor.right.target\", 2**16-100)\n",
    "        if 1.5*math.pi < relative_angle < 2*math.pi: #quadrant 4     \n",
    "            time_tg = (math.degrees(relative_angle)+0.3091)/38.0509\n",
    "            self.th.set_var(\"motor.left.target\", 100) #turn to the right\n",
    "            self.th.set_var(\"motor.right.target\", 2**16-100) \n",
    "\n",
    "        t=0\n",
    "        t_start = time.time()\n",
    "        while t < time_tg: #one revolution: 4.378\n",
    "            t_end= time.time()\n",
    "            t =  t_end - t_start\n",
    "        self.th.set_var(\"motor.left.target\", 0)\n",
    "        self.th.set_var(\"motor.right.target\", 0)\n",
    "\n",
    "    def Distance(self, d): \n",
    "        time_tg = (d+0.4773)/31.809 #time given by the Kalman filter # #d in mm\n",
    "        self.th.set_var(\"motor.left.target\", 100)\n",
    "        self.th.set_var(\"motor.right.target\", 100)\n",
    "        t_start = time.time()\n",
    "        t=0\n",
    "        while t < time_tg: #one revolution: 4.378\n",
    "            t_end= time.time()\n",
    "            t =  t_end - t_start\n",
    "\n",
    "        print(\"time:{}\".format(time_tg))\n",
    "        self.th.set_var(\"motor.left.target\", 0)\n",
    "        self.th.set_var(\"motor.right.target\", 0)\n",
    "        time.sleep(0.1)\n",
    "\n",
    "    def SetPosition(self, p_tg):\n",
    "        if p_tg == self.pos_th[0:2]: return False #if the robot is already at the position\n",
    "        #distance\n",
    "        d = math.sqrt(((self.pos_th[0]-p_tg[0])**2)+((self.pos_th[1]-p_tg[1])**2))\n",
    "        \n",
    "        #angle\n",
    "        if self.pos_th[0]-p_tg[0]==0:\n",
    "            relative_angle = 0\n",
    "        else:\n",
    "            relative_angle = math.atan((p_tg[1]-self.pos_th[1])/(self.pos_th[0]-p_tg[0])) #angle to go to x,y\n",
    "        new_theta = self.pos_th[2] + relative_angle \n",
    "        print(\"before modulo:{}\".format(new_theta))\n",
    "        new_theta = new_theta%2*math.pi\n",
    "        print(\"after modulo:{}\".format(new_theta))\n",
    "        \n",
    "        print(\"distance:{}\".format(d))\n",
    "        print(\"angle:{}\".format(new_theta))\n",
    "        self.Angle(relative_angle)\n",
    "        self.Distance(d)\n",
    "\n",
    "        #update position and angle of the robot\n",
    "        self.pos_th = [p_tg[0],p_tg[1],new_theta]\n",
    "\n",
    "        return True"
   ]
  },
  {
   "cell_type": "code",
   "execution_count": 28,
   "metadata": {},
   "outputs": [],
   "source": [
    "th_m = robot()"
   ]
  },
  {
   "cell_type": "code",
   "execution_count": 29,
   "metadata": {},
   "outputs": [
    {
     "output_type": "stream",
     "name": "stdout",
     "text": [
      "distance measurement model: [1, 15.944444444444445, 1.6235154662447173]\n\nangle measurement model: [1, 38.55555555555556, 2.753224820747526]\nbefore modulo:0\nafter modulo:0.0\ndistance:50.0\nangle:0.0\n"
     ]
    },
    {
     "output_type": "error",
     "ename": "UnboundLocalError",
     "evalue": "local variable 'time_tg' referenced before assignment",
     "traceback": [
      "\u001b[0;31m---------------------------------------------------------------------------\u001b[0m",
      "\u001b[0;31mUnboundLocalError\u001b[0m                         Traceback (most recent call last)",
      "\u001b[0;32m<ipython-input-29-d3f866df9b59>\u001b[0m in \u001b[0;36m<module>\u001b[0;34m\u001b[0m\n\u001b[1;32m      6\u001b[0m \u001b[0;34m\u001b[0m\u001b[0m\n\u001b[1;32m      7\u001b[0m \u001b[0mdir\u001b[0m\u001b[0;34m(\u001b[0m\u001b[0mth_m\u001b[0m\u001b[0;34m.\u001b[0m\u001b[0mth\u001b[0m\u001b[0;34m)\u001b[0m\u001b[0;34m\u001b[0m\u001b[0;34m\u001b[0m\u001b[0m\n\u001b[0;32m----> 8\u001b[0;31m \u001b[0mth_m\u001b[0m\u001b[0;34m.\u001b[0m\u001b[0mSetPosition\u001b[0m\u001b[0;34m(\u001b[0m\u001b[0;34m[\u001b[0m\u001b[0;36m0\u001b[0m\u001b[0;34m,\u001b[0m\u001b[0;36m50\u001b[0m\u001b[0;34m]\u001b[0m\u001b[0;34m)\u001b[0m\u001b[0;34m\u001b[0m\u001b[0;34m\u001b[0m\u001b[0m\n\u001b[0m\u001b[1;32m      9\u001b[0m \u001b[0mpos_th\u001b[0m \u001b[0;34m=\u001b[0m \u001b[0mth_m\u001b[0m\u001b[0;34m.\u001b[0m\u001b[0mGetPosition\u001b[0m\u001b[0;34m(\u001b[0m\u001b[0;34m)\u001b[0m\u001b[0;34m\u001b[0m\u001b[0;34m\u001b[0m\u001b[0m\n\u001b[1;32m     10\u001b[0m \u001b[0mprint\u001b[0m\u001b[0;34m(\u001b[0m\u001b[0;34m\"Thymio position: {}\"\u001b[0m\u001b[0;34m.\u001b[0m\u001b[0mformat\u001b[0m\u001b[0;34m(\u001b[0m\u001b[0mpos_th\u001b[0m\u001b[0;34m)\u001b[0m\u001b[0;34m)\u001b[0m\u001b[0;34m\u001b[0m\u001b[0;34m\u001b[0m\u001b[0m\n",
      "\u001b[0;32m<ipython-input-27-89b5b2f1b6fb>\u001b[0m in \u001b[0;36mSetPosition\u001b[0;34m(self, p_tg)\u001b[0m\n\u001b[1;32m     86\u001b[0m         \u001b[0mprint\u001b[0m\u001b[0;34m(\u001b[0m\u001b[0;34m\"distance:{}\"\u001b[0m\u001b[0;34m.\u001b[0m\u001b[0mformat\u001b[0m\u001b[0;34m(\u001b[0m\u001b[0md\u001b[0m\u001b[0;34m)\u001b[0m\u001b[0;34m)\u001b[0m\u001b[0;34m\u001b[0m\u001b[0;34m\u001b[0m\u001b[0m\n\u001b[1;32m     87\u001b[0m         \u001b[0mprint\u001b[0m\u001b[0;34m(\u001b[0m\u001b[0;34m\"angle:{}\"\u001b[0m\u001b[0;34m.\u001b[0m\u001b[0mformat\u001b[0m\u001b[0;34m(\u001b[0m\u001b[0mnew_theta\u001b[0m\u001b[0;34m)\u001b[0m\u001b[0;34m)\u001b[0m\u001b[0;34m\u001b[0m\u001b[0;34m\u001b[0m\u001b[0m\n\u001b[0;32m---> 88\u001b[0;31m         \u001b[0mself\u001b[0m\u001b[0;34m.\u001b[0m\u001b[0mAngle\u001b[0m\u001b[0;34m(\u001b[0m\u001b[0mrelative_angle\u001b[0m\u001b[0;34m)\u001b[0m\u001b[0;34m\u001b[0m\u001b[0;34m\u001b[0m\u001b[0m\n\u001b[0m\u001b[1;32m     89\u001b[0m         \u001b[0mself\u001b[0m\u001b[0;34m.\u001b[0m\u001b[0mDistance\u001b[0m\u001b[0;34m(\u001b[0m\u001b[0md\u001b[0m\u001b[0;34m)\u001b[0m\u001b[0;34m\u001b[0m\u001b[0;34m\u001b[0m\u001b[0m\n\u001b[1;32m     90\u001b[0m \u001b[0;34m\u001b[0m\u001b[0m\n",
      "\u001b[0;32m<ipython-input-27-89b5b2f1b6fb>\u001b[0m in \u001b[0;36mAngle\u001b[0;34m(self, relative_angle)\u001b[0m\n\u001b[1;32m     48\u001b[0m         \u001b[0mt\u001b[0m\u001b[0;34m=\u001b[0m\u001b[0;36m0\u001b[0m\u001b[0;34m\u001b[0m\u001b[0;34m\u001b[0m\u001b[0m\n\u001b[1;32m     49\u001b[0m         \u001b[0mt_start\u001b[0m \u001b[0;34m=\u001b[0m \u001b[0mtime\u001b[0m\u001b[0;34m.\u001b[0m\u001b[0mtime\u001b[0m\u001b[0;34m(\u001b[0m\u001b[0;34m)\u001b[0m\u001b[0;34m\u001b[0m\u001b[0;34m\u001b[0m\u001b[0m\n\u001b[0;32m---> 50\u001b[0;31m         \u001b[0;32mwhile\u001b[0m \u001b[0mt\u001b[0m \u001b[0;34m<\u001b[0m \u001b[0mtime_tg\u001b[0m\u001b[0;34m:\u001b[0m \u001b[0;31m#one revolution: 4.378\u001b[0m\u001b[0;34m\u001b[0m\u001b[0;34m\u001b[0m\u001b[0m\n\u001b[0m\u001b[1;32m     51\u001b[0m             \u001b[0mt_end\u001b[0m\u001b[0;34m=\u001b[0m \u001b[0mtime\u001b[0m\u001b[0;34m.\u001b[0m\u001b[0mtime\u001b[0m\u001b[0;34m(\u001b[0m\u001b[0;34m)\u001b[0m\u001b[0;34m\u001b[0m\u001b[0;34m\u001b[0m\u001b[0m\n\u001b[1;32m     52\u001b[0m             \u001b[0mt\u001b[0m \u001b[0;34m=\u001b[0m  \u001b[0mt_end\u001b[0m \u001b[0;34m-\u001b[0m \u001b[0mt_start\u001b[0m\u001b[0;34m\u001b[0m\u001b[0;34m\u001b[0m\u001b[0m\n",
      "\u001b[0;31mUnboundLocalError\u001b[0m: local variable 'time_tg' referenced before assignment"
     ]
    }
   ],
   "source": [
    "pos_th = th_m.GetPosition()\n",
    "\n",
    "distance_p0, angle_p0 = th_m.measurement_model()\n",
    "print(\"distance measurement model: {}\\n\".format(distance_p0))\n",
    "print(\"angle measurement model: {}\".format(angle_p0))\n",
    "\n",
    "dir(th_m.th)\n",
    "th_m.SetPosition([0,50])\n",
    "pos_th = th_m.GetPosition()\n",
    "print(\"Thymio position: {}\".format(pos_th))"
   ]
  },
  {
   "cell_type": "code",
   "execution_count": 41,
   "metadata": {},
   "outputs": [],
   "source": [
    "def Main():\n",
    "    \n",
    "    a=1\n",
    "if __name__==\"__main__\": \n",
    "    Main() "
   ]
  },
  {
   "cell_type": "code",
   "execution_count": null,
   "metadata": {},
   "outputs": [],
   "source": []
  }
 ]
}